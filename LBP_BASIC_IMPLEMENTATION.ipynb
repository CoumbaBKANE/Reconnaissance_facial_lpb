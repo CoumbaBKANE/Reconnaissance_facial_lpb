{
  "nbformat": 4,
  "nbformat_minor": 0,
  "metadata": {
    "colab": {
      "provenance": []
    },
    "kernelspec": {
      "name": "python3",
      "display_name": "Python 3"
    },
    "language_info": {
      "name": "python"
    }
  },
  "cells": [
    {
      "cell_type": "code",
      "execution_count": null,
      "metadata": {
        "id": "r5SB53nNNRCh"
      },
      "outputs": [],
      "source": [
        "# Dépendances\n",
        "import cv2\n",
        "import numpy as np\n",
        "from matplotlib import pyplot as plt"
      ]
    },
    {
      "cell_type": "code",
      "source": [
        "def center_compare(center, pixel_list):\n",
        "    return [1 if pixel >= center else 0 for pixel in pixel_list]"
      ],
      "metadata": {
        "id": "lNKkWrjqNYiq"
      },
      "execution_count": null,
      "outputs": []
    },
    {
      "cell_type": "code",
      "source": [
        "def get_pixel(map, x, y):\n",
        "    try:\n",
        "        return map[x, y]\n",
        "    except IndexError:\n",
        "        return 0"
      ],
      "metadata": {
        "id": "V9MRWwcQeuAV"
      },
      "execution_count": null,
      "outputs": []
    },
    {
      "cell_type": "code",
      "source": [
        "def binary2decimal(binary_list):\n",
        "    binary_list.reverse()\n",
        "    ans = 0\n",
        "    factor = 1\n",
        "    for i in binary_list:\n",
        "        ans += i*factor\n",
        "        factor*=2\n",
        "    return ans"
      ],
      "metadata": {
        "id": "gEPV16n8e5DM"
      },
      "execution_count": null,
      "outputs": []
    },
    {
      "cell_type": "markdown",
      "source": [
        "# Nouvelle section"
      ],
      "metadata": {
        "id": "JH2nuGMHtrdh"
      }
    },
    {
      "cell_type": "code",
      "source": [
        "img = cv2.imread('./drive/MyDrive/Colab Notebooks/cbk.jpeg', cv2.IMREAD_GRAYSCALE)\n",
        "img_lbp = cv2.imread('./drive/MyDrive/Colab Notebooks/laf.jpeg', cv2.IMREAD_GRAYSCALE)"
      ],
      "metadata": {
        "id": "UFJTObTTeotu"
      },
      "execution_count": null,
      "outputs": []
    },
    {
      "cell_type": "code",
      "source": [],
      "metadata": {
        "id": "moNT7yQtyCoE"
      },
      "execution_count": null,
      "outputs": []
    },
    {
      "cell_type": "code",
      "source": [
        "height, width = img.shape\n",
        "img.shape"
      ],
      "metadata": {
        "colab": {
          "base_uri": "https://localhost:8080/"
        },
        "id": "U00nymKofbTw",
        "outputId": "310468d8-cd10-4920-eb15-4868f8d1f94b"
      },
      "execution_count": null,
      "outputs": [
        {
          "output_type": "execute_result",
          "data": {
            "text/plain": [
              "(558, 992)"
            ]
          },
          "metadata": {},
          "execution_count": 18
        }
      ]
    },
    {
      "cell_type": "code",
      "source": [
        "for x in range(0, height):\n",
        "    for y in range(0, width):\n",
        "        center = img[x, y]\n",
        "        top_left = get_pixel(img, x-1, y-1)\n",
        "        top_up = get_pixel(img, x, y-1)\n",
        "        top_right = get_pixel(img, x+1, y-1)\n",
        "        left = get_pixel(img, x-1, y)\n",
        "        right = get_pixel(img, x+1, y)\n",
        "        bottom_left = get_pixel(img, x-1, y+1)\n",
        "        bottom_down = get_pixel(img, x, y+1)\n",
        "        bottom_right = get_pixel(img, x+1, y+1)\n",
        "\n",
        "        neighbor_list = [top_left, top_up, top_right, right, bottom_right, bottom_down, bottom_left, left]\n",
        "        binary_list = center_compare(center, neighbor_list)\n",
        "        decimal_value = binary2decimal(binary_list)\n",
        "        img_lbp.itemset((x, y), decimal_value)"
      ],
      "metadata": {
        "id": "sVplRt2AffL8"
      },
      "execution_count": null,
      "outputs": []
    },
    {
      "cell_type": "code",
      "source": [
        "cv2.imwrite('./test_images/002_lbp.png', img_lbp)"
      ],
      "metadata": {
        "colab": {
          "base_uri": "https://localhost:8080/"
        },
        "id": "I9gK2fusfkJu",
        "outputId": "d2c9d7e1-c36a-4bdd-e1bd-09d910346c96"
      },
      "execution_count": null,
      "outputs": [
        {
          "output_type": "execute_result",
          "data": {
            "text/plain": [
              "True"
            ]
          },
          "metadata": {},
          "execution_count": 20
        }
      ]
    },
    {
      "cell_type": "code",
      "source": [
        "hist, bins = np.histogram(img.flatten(), 256, [0,256])\n",
        "hist_lbp, bins_lbp = np.histogram(img_lbp.flatten(), 256, [0,256])\n",
        "\n",
        "cfd = hist.cumsum() #calculate the Cumulative Frequency Distribution\n",
        "cfd_lbp = hist_lbp.cumsum()\n",
        "cfd_normalized = cfd * hist.max()/cfd.max()\n",
        "cfd_lbp_normalized = cfd_lbp * hist_lbp.max()/cfd_lbp.max()"
      ],
      "metadata": {
        "id": "L6Qj4GyAfoVy"
      },
      "execution_count": null,
      "outputs": []
    },
    {
      "cell_type": "code",
      "source": [
        "plt.figure()\n",
        "plt.hist(hist, bins)\n",
        "plt.savefig('002_hist.png')\n",
        "plt.figure()\n",
        "plt.hist(hist_lbp, bins_lbp)\n",
        "plt.savefig('002_lbp_hist.png')"
      ],
      "metadata": {
        "colab": {
          "base_uri": "https://localhost:8080/",
          "height": 843
        },
        "id": "3zSxbA5cfq8m",
        "outputId": "dbc893bf-2791-4e6f-9dbc-9f21a23b7434"
      },
      "execution_count": null,
      "outputs": [
        {
          "output_type": "display_data",
          "data": {
            "text/plain": [
              "<Figure size 640x480 with 1 Axes>"
            ],
            "image/png": "[encoded data removed]"
          },
          "metadata": {}
        },
        {
          "output_type": "display_data",
          "data": {
            "text/plain": [
              "<Figure size 640x480 with 1 Axes>"
            ],
            "image/png": "[encoded data removed]"
          },
          "metadata": {}
        }
      ]
    }
  ]
}